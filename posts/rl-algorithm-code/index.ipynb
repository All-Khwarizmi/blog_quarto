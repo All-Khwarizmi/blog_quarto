{
 "cells": [
  {
   "cell_type": "markdown",
   "metadata": {},
   "source": [
    "---\n",
    "title: \"Régression linéaire code Python\"\n",
    "author: \"Jason Suárez\"\n",
    "date: \"2024-02-02\"\n",
    "categories: [\"Data Science\", \"Python\"]\n",
    "image: \"image.png\"\n",
    "draft: true\n",
    "---"
   ]
  },
  {
   "cell_type": "markdown",
   "metadata": {},
   "source": [
    "Dans ce notebook, nous allons voir comment implémenter une régression linéaire en Python. Nous n'allons pas utiliser de bibliothèques pour ce faire, mais nous allons plutôt implémenter l'algorithme de régression linéaire à partir de zéro. Nous allons également voir comment utiliser notre implémentation pour prédire des valeurs à partir d'un ensemble de données."
   ]
  },
  {
   "cell_type": "code",
   "execution_count": 1,
   "metadata": {},
   "outputs": [
    {
     "name": "stderr",
     "output_type": "stream",
     "text": [
      "/var/folders/yj/l9r_dtt126ncwq1x9jfz7xkw0000gn/T/ipykernel_53206/702382961.py:1: DeprecationWarning: \n",
      "Pyarrow will become a required dependency of pandas in the next major release of pandas (pandas 3.0),\n",
      "(to allow more performant data types, such as the Arrow string type, and better interoperability with other libraries)\n",
      "but was not found to be installed on your system.\n",
      "If this would cause problems for you,\n",
      "please provide us feedback at https://github.com/pandas-dev/pandas/issues/54466\n",
      "        \n",
      "  import pandas as pd\n"
     ]
    }
   ],
   "source": [
    "import pandas as pd\n",
    "import numpy as np\n",
    "import matplotlib.pyplot as plt \n",
    "from utils import *"
   ]
  },
  {
   "cell_type": "markdown",
   "metadata": {},
   "source": [
    "### Chargement et visualisation des données"
   ]
  },
  {
   "cell_type": "code",
   "execution_count": 2,
   "metadata": {},
   "outputs": [
    {
     "data": {
      "text/html": [
       "<div>\n",
       "<style scoped>\n",
       "    .dataframe tbody tr th:only-of-type {\n",
       "        vertical-align: middle;\n",
       "    }\n",
       "\n",
       "    .dataframe tbody tr th {\n",
       "        vertical-align: top;\n",
       "    }\n",
       "\n",
       "    .dataframe thead th {\n",
       "        text-align: right;\n",
       "    }\n",
       "</style>\n",
       "<table border=\"1\" class=\"dataframe\">\n",
       "  <thead>\n",
       "    <tr style=\"text-align: right;\">\n",
       "      <th></th>\n",
       "      <th>x</th>\n",
       "      <th>y</th>\n",
       "    </tr>\n",
       "  </thead>\n",
       "  <tbody>\n",
       "    <tr>\n",
       "      <th>0</th>\n",
       "      <td>24.0</td>\n",
       "      <td>21.549452</td>\n",
       "    </tr>\n",
       "    <tr>\n",
       "      <th>1</th>\n",
       "      <td>50.0</td>\n",
       "      <td>47.464463</td>\n",
       "    </tr>\n",
       "    <tr>\n",
       "      <th>2</th>\n",
       "      <td>15.0</td>\n",
       "      <td>17.218656</td>\n",
       "    </tr>\n",
       "    <tr>\n",
       "      <th>3</th>\n",
       "      <td>38.0</td>\n",
       "      <td>36.586398</td>\n",
       "    </tr>\n",
       "    <tr>\n",
       "      <th>4</th>\n",
       "      <td>87.0</td>\n",
       "      <td>87.288984</td>\n",
       "    </tr>\n",
       "  </tbody>\n",
       "</table>\n",
       "</div>"
      ],
      "text/plain": [
       "      x          y\n",
       "0  24.0  21.549452\n",
       "1  50.0  47.464463\n",
       "2  15.0  17.218656\n",
       "3  38.0  36.586398\n",
       "4  87.0  87.288984"
      ]
     },
     "execution_count": 2,
     "metadata": {},
     "output_type": "execute_result"
    }
   ],
   "source": [
    "train_data = pd.read_csv('data/train.csv')\n",
    "test_data = pd.read_csv('data/test.csv')\n",
    "\n",
    "# On élimine les rangées avec des valeurs manquantes\n",
    "train_data = train_data.dropna()\n",
    "test_data = test_data.dropna()\n",
    "\n",
    "train_data.head()"
   ]
  },
  {
   "cell_type": "code",
   "execution_count": 3,
   "metadata": {},
   "outputs": [],
   "source": [
    "# On sépare les données en X et y\n",
    "\n",
    "X_train = train_data.x\n",
    "y_train = train_data.y\n",
    "\n",
    "X_test = test_data.x\n",
    "y_test = test_data.y"
   ]
  },
  {
   "cell_type": "code",
   "execution_count": 4,
   "metadata": {},
   "outputs": [
    {
     "data": {
      "text/html": [
       "<div>\n",
       "<style scoped>\n",
       "    .dataframe tbody tr th:only-of-type {\n",
       "        vertical-align: middle;\n",
       "    }\n",
       "\n",
       "    .dataframe tbody tr th {\n",
       "        vertical-align: top;\n",
       "    }\n",
       "\n",
       "    .dataframe thead th {\n",
       "        text-align: right;\n",
       "    }\n",
       "</style>\n",
       "<table border=\"1\" class=\"dataframe\">\n",
       "  <thead>\n",
       "    <tr style=\"text-align: right;\">\n",
       "      <th></th>\n",
       "      <th>x</th>\n",
       "      <th>y</th>\n",
       "    </tr>\n",
       "  </thead>\n",
       "  <tbody>\n",
       "    <tr>\n",
       "      <th>count</th>\n",
       "      <td>699.000000</td>\n",
       "      <td>699.000000</td>\n",
       "    </tr>\n",
       "    <tr>\n",
       "      <th>mean</th>\n",
       "      <td>50.014306</td>\n",
       "      <td>49.939869</td>\n",
       "    </tr>\n",
       "    <tr>\n",
       "      <th>std</th>\n",
       "      <td>28.954560</td>\n",
       "      <td>29.109217</td>\n",
       "    </tr>\n",
       "    <tr>\n",
       "      <th>min</th>\n",
       "      <td>0.000000</td>\n",
       "      <td>-3.839981</td>\n",
       "    </tr>\n",
       "    <tr>\n",
       "      <th>25%</th>\n",
       "      <td>25.000000</td>\n",
       "      <td>24.929968</td>\n",
       "    </tr>\n",
       "    <tr>\n",
       "      <th>50%</th>\n",
       "      <td>49.000000</td>\n",
       "      <td>48.973020</td>\n",
       "    </tr>\n",
       "    <tr>\n",
       "      <th>75%</th>\n",
       "      <td>75.000000</td>\n",
       "      <td>74.929911</td>\n",
       "    </tr>\n",
       "    <tr>\n",
       "      <th>max</th>\n",
       "      <td>100.000000</td>\n",
       "      <td>108.871618</td>\n",
       "    </tr>\n",
       "  </tbody>\n",
       "</table>\n",
       "</div>"
      ],
      "text/plain": [
       "                x           y\n",
       "count  699.000000  699.000000\n",
       "mean    50.014306   49.939869\n",
       "std     28.954560   29.109217\n",
       "min      0.000000   -3.839981\n",
       "25%     25.000000   24.929968\n",
       "50%     49.000000   48.973020\n",
       "75%     75.000000   74.929911\n",
       "max    100.000000  108.871618"
      ]
     },
     "execution_count": 4,
     "metadata": {},
     "output_type": "execute_result"
    }
   ],
   "source": [
    "train_data.describe()"
   ]
  },
  {
   "cell_type": "code",
   "execution_count": 5,
   "metadata": {},
   "outputs": [
    {
     "data": {
      "image/png": "[encoded data removed]",
      "text/plain": [
       "<Figure size 1000x500 with 1 Axes>"
      ]
     },
     "metadata": {},
     "output_type": "display_data"
    }
   ],
   "source": [
    "plt.figure(figsize=(10, 5))\n",
    "plt.title(\"Scatter plot of X and Y\")\n",
    "plt.scatter(train_data.x, train_data.y)\n",
    "plt.show()"
   ]
  },
  {
   "cell_type": "markdown",
   "metadata": {},
   "source": [
    "### Préparation des jeux de données"
   ]
  },
  {
   "cell_type": "code",
   "execution_count": 6,
   "metadata": {},
   "outputs": [
    {
     "name": "stdout",
     "output_type": "stream",
     "text": [
      "train_size: 70.0% - test_size: 30.0%\n",
      "X_train: 70%\n",
      "X_val: 30%\n"
     ]
    }
   ],
   "source": [
    "from utils import dataset_splitter\n",
    "\n",
    "X_train, X_val, y_train, y_val = dataset_splitter(X_train, y_train, test_size=0.3)"
   ]
  },
  {
   "cell_type": "markdown",
   "metadata": {},
   "source": [
    "### Standardisation des données\n"
   ]
  },
  {
   "cell_type": "markdown",
   "metadata": {},
   "source": [
    "\n",
    "Standardization is a preprocessing technique used in machine learning to rescale and transform the features (variables) of a dataset to have a mean of 0 and a standard deviation of 1. It is also known as \"z-score normalization\" or \"z-score scaling.\" Standardization is an essential step in the data preprocessing pipeline for various reasons:\n",
    "\n",
    "### Why Use Standardization in Machine Learning?\n",
    "\n",
    "1. **Mean Centering**: Standardization centers the data by subtracting the mean from each feature. This ensures that the transformed data has a mean of 0. Mean centering is crucial because it helps in capturing the relative variations in the data.\n",
    "\n",
    "2. **Scale Invariance**: Standardization scales the data by dividing each feature by its standard deviation. This makes the data scale-invariant, meaning that the scale of the features no longer affects the performance of many machine learning algorithms. Without standardization, features with larger scales may dominate the learning process.\n",
    "\n",
    "3. **Improved Convergence**: Many machine learning algorithms, such as gradient-based optimization algorithms (e.g., gradient descent), converge faster when the features are standardized. It reduces the potential for numerical instability and overflow/underflow issues during training.\n",
    "\n",
    "4. **Comparability**: Standardizing the features makes it easier to compare and interpret the importance of each feature. This is especially important in models like linear regression, where the coefficients represent the feature's impact on the target variable.\n",
    "\n",
    "5. **Regularization**: In regularization techniques like Ridge and Lasso regression, the regularization strength is applied uniformly to all features. Standardization ensures that the regularization term applies fairly to all features.\n",
    "\n",
    "### How to Standardize Data\n",
    "\n",
    "The standardization process involves the following steps:\n",
    "\n",
    "1. Calculate the mean ($\\mu$) and standard deviation ($\\sigma$) for each feature in the dataset.\n",
    "2. For each data point (sample), subtract the mean ($\\mu$) of the feature and then divide by the standard deviation ($\\sigma$) of the feature.\n",
    "\n",
    "Mathematically, the standardized value for a feature `x` in a dataset is calculated as:\n",
    "\n",
    "$$\n",
    "\\text{Standardized value} = \\frac{x - \\mu}{\\sigma}\n",
    "$$\n",
    "\n",
    "Here, `x` is the original value of the feature, $\\mu$ is the mean of the feature, and $\\sigma$ is the standard deviation of the feature."
   ]
  },
  {
   "cell_type": "code",
   "execution_count": 7,
   "metadata": {},
   "outputs": [],
   "source": [
    "X_train, y_train = standardize_data(X_train, y_train)\n",
    "X_val, y_val = standardize_data(X_val, y_val)\n",
    "\n",
    "# On remodèle les données pour qu'elles soient compatibles avec le modèle\n",
    "X_train = X_train.reshape(-1, 1)\n",
    "X_val = X_val.reshape(-1, 1)\n"
   ]
  },
  {
   "cell_type": "markdown",
   "metadata": {},
   "source": [
    "## Implémentation de l'algorithme de régression linéaire"
   ]
  },
  {
   "cell_type": "markdown",
   "metadata": {},
   "source": [
    "\n",
    "\n",
    "Linear regression is a fundamental model in machine learning used for predicting a continuous output variable based on input features. The model function for linear regression is represented as:\n",
    "\n",
    "$$f_{w,b}(x) = wx + b$$\n",
    "\n",
    "In this equation, $f_{w,b}(x)$ represents the predicted output, $w$ is the weight parameter, $b$ is the bias parameter, and $x$ is the input feature.\n",
    "\n",
    "## Model Training\n",
    "\n",
    "To train a linear regression model, we aim to find the best values for the parameters $(w, b)$ that best fit our dataset.\n",
    "\n",
    "### Forward Pass\n",
    "\n",
    "The forward pass is a step where we compute the linear regression output for the input data $X$ using the current weights and biases. It's essentially applying our model to the input data.\n",
    "\n",
    "### Cost Function\n",
    "\n",
    "The cost function is used to measure how well our model is performing. It quantifies the difference between the predicted values and the actual values in our dataset. The cost function is defined as:\n",
    "\n",
    "$$J(w,b) = \\frac{1}{2m} \\sum_{i=1}^{m}(f_{w,b}(x^{(i)}) - y^{(i)})^2$$\n",
    "\n",
    "Here, $J(w, b)$ is the cost, $m$ is the number of training examples, $x^{(i)}$ is the input data for the $i$-th example, $y^{(i)}$ is the actual output for the $i$-th example, and $w$ and $b$ are the weight and bias parameters, respectively.\n",
    "****\n",
    "### Backward Pass (Gradient Computation)\n",
    "\n",
    "The backward pass computes the gradients of the cost function with respect to the weights and biases. These gradients are crucial for updating the model parameters during training. The gradient formulas are as follows:\n",
    "$$\n",
    "\\frac{\\partial J(w,b)}{\\partial b} = \\frac{1}{m} \\sum_{i=0}^{m-1} (f_{w,b}(X^{(i)}) - y^{(i)})\n",
    "$$\n",
    "\n",
    "$$\n",
    "\\frac{\\partial J(w,b)}{\\partial w} = \\frac{1}{m} \\sum_{i=0}^{m-1} (f_{w,b}(X^{(i)}) - y^{(i)})X^{(i)}\n",
    "$$\n",
    "\n",
    "## Training Process\n",
    "\n",
    "The training process involves iteratively updating the weights and biases to minimize the cost function. This is typically done through an optimization algorithm like gradient descent. The update equations for parameters are:\n",
    "\n",
    "$$w \\leftarrow w - \\alpha \\frac{\\partial J}{\\partial w}$$\n",
    "\n",
    "$$b \\leftarrow b - \\alpha \\frac{\\partial J}{\\partial b}$$\n",
    "\n",
    "Here, $\\alpha$ represents the learning rate, which controls the step size during parameter updates.\n",
    "\n",
    "By iteratively performing the forward pass, computing the cost, performing the backward pass, and updating the parameters, the model learns to make better predictions and fit the data.\n"
   ]
  },
  {
   "cell_type": "code",
   "execution_count": 8,
   "metadata": {},
   "outputs": [
    {
     "name": "stdout",
     "output_type": "stream",
     "text": [
      "Cost after iteration 0: 489.0000000000001\n"
     ]
    }
   ],
   "source": [
    "\n",
    "\n",
    "rl = LinearRegression(X_train, y_train)\n",
    "costs= rl.train(epochs=100, learning_rate=0.01)"
   ]
  },
  {
   "cell_type": "code",
   "execution_count": 11,
   "metadata": {},
   "outputs": [
    {
     "name": "stdout",
     "output_type": "stream",
     "text": [
      "Coeficients:  [[-1.87186164e+40 -1.87186164e+40 -1.87186164e+40 -1.87186164e+40\n",
      "  -1.87186164e+40 -1.87186164e+40 -1.87186164e+40 -1.87186164e+40\n",
      "  -1.87186164e+40 -1.87186164e+40 -1.87186164e+40 -1.87186164e+40\n",
      "  -1.87186164e+40 -1.87186164e+40 -1.87186164e+40 -1.87186164e+40\n",
      "  -1.87186164e+40 -1.87186164e+40 -1.87186164e+40 -1.87186164e+40\n",
      "  -1.87186164e+40 -1.87186164e+40 -1.87186164e+40 -1.87186164e+40\n",
      "  -1.87186164e+40 -1.87186164e+40 -1.87186164e+40 -1.87186164e+40\n",
      "  -1.87186164e+40 -1.87186164e+40 -1.87186164e+40 -1.87186164e+40\n",
      "  -1.87186164e+40 -1.87186164e+40 -1.87186164e+40 -1.87186164e+40\n",
      "  -1.87186164e+40 -1.87186164e+40 -1.87186164e+40 -1.87186164e+40\n",
      "  -1.87186164e+40 -1.87186164e+40 -1.87186164e+40 -1.87186164e+40\n",
      "  -1.87186164e+40 -1.87186164e+40 -1.87186164e+40 -1.87186164e+40\n",
      "  -1.87186164e+40 -1.87186164e+40 -1.87186164e+40 -1.87186164e+40\n",
      "  -1.87186164e+40 -1.87186164e+40 -1.87186164e+40 -1.87186164e+40\n",
      "  -1.87186164e+40 -1.87186164e+40 -1.87186164e+40 -1.87186164e+40\n",
      "  -1.87186164e+40 -1.87186164e+40 -1.87186164e+40 -1.87186164e+40\n",
      "  -1.87186164e+40 -1.87186164e+40 -1.87186164e+40 -1.87186164e+40\n",
      "  -1.87186164e+40 -1.87186164e+40 -1.87186164e+40 -1.87186164e+40\n",
      "  -1.87186164e+40 -1.87186164e+40 -1.87186164e+40 -1.87186164e+40\n",
      "  -1.87186164e+40 -1.87186164e+40 -1.87186164e+40 -1.87186164e+40\n",
      "  -1.87186164e+40 -1.87186164e+40 -1.87186164e+40 -1.87186164e+40\n",
      "  -1.87186164e+40 -1.87186164e+40 -1.87186164e+40 -1.87186164e+40\n",
      "  -1.87186164e+40 -1.87186164e+40 -1.87186164e+40 -1.87186164e+40\n",
      "  -1.87186164e+40 -1.87186164e+40 -1.87186164e+40 -1.87186164e+40\n",
      "  -1.87186164e+40 -1.87186164e+40 -1.87186164e+40 -1.87186164e+40\n",
      "  -1.87186164e+40 -1.87186164e+40 -1.87186164e+40 -1.87186164e+40\n",
      "  -1.87186164e+40 -1.87186164e+40 -1.87186164e+40 -1.87186164e+40\n",
      "  -1.87186164e+40 -1.87186164e+40 -1.87186164e+40 -1.87186164e+40\n",
      "  -1.87186164e+40 -1.87186164e+40 -1.87186164e+40 -1.87186164e+40\n",
      "  -1.87186164e+40 -1.87186164e+40 -1.87186164e+40 -1.87186164e+40\n",
      "  -1.87186164e+40 -1.87186164e+40 -1.87186164e+40 -1.87186164e+40\n",
      "  -1.87186164e+40 -1.87186164e+40 -1.87186164e+40 -1.87186164e+40\n",
      "  -1.87186164e+40 -1.87186164e+40 -1.87186164e+40 -1.87186164e+40\n",
      "  -1.87186164e+40 -1.87186164e+40 -1.87186164e+40 -1.87186164e+40\n",
      "  -1.87186164e+40 -1.87186164e+40 -1.87186164e+40 -1.87186164e+40\n",
      "  -1.87186164e+40 -1.87186164e+40 -1.87186164e+40 -1.87186164e+40\n",
      "  -1.87186164e+40 -1.87186164e+40 -1.87186164e+40 -1.87186164e+40\n",
      "  -1.87186164e+40 -1.87186164e+40 -1.87186164e+40 -1.87186164e+40\n",
      "  -1.87186164e+40 -1.87186164e+40 -1.87186164e+40 -1.87186164e+40\n",
      "  -1.87186164e+40 -1.87186164e+40 -1.87186164e+40 -1.87186164e+40\n",
      "  -1.87186164e+40 -1.87186164e+40 -1.87186164e+40 -1.87186164e+40\n",
      "  -1.87186164e+40 -1.87186164e+40 -1.87186164e+40 -1.87186164e+40\n",
      "  -1.87186164e+40 -1.87186164e+40 -1.87186164e+40 -1.87186164e+40\n",
      "  -1.87186164e+40 -1.87186164e+40 -1.87186164e+40 -1.87186164e+40\n",
      "  -1.87186164e+40 -1.87186164e+40 -1.87186164e+40 -1.87186164e+40\n",
      "  -1.87186164e+40 -1.87186164e+40 -1.87186164e+40 -1.87186164e+40\n",
      "  -1.87186164e+40 -1.87186164e+40 -1.87186164e+40 -1.87186164e+40\n",
      "  -1.87186164e+40 -1.87186164e+40 -1.87186164e+40 -1.87186164e+40\n",
      "  -1.87186164e+40 -1.87186164e+40 -1.87186164e+40 -1.87186164e+40\n",
      "  -1.87186164e+40 -1.87186164e+40 -1.87186164e+40 -1.87186164e+40\n",
      "  -1.87186164e+40 -1.87186164e+40 -1.87186164e+40 -1.87186164e+40\n",
      "  -1.87186164e+40 -1.87186164e+40 -1.87186164e+40 -1.87186164e+40\n",
      "  -1.87186164e+40 -1.87186164e+40 -1.87186164e+40 -1.87186164e+40\n",
      "  -1.87186164e+40 -1.87186164e+40 -1.87186164e+40 -1.87186164e+40\n",
      "  -1.87186164e+40 -1.87186164e+40 -1.87186164e+40 -1.87186164e+40\n",
      "  -1.87186164e+40 -1.87186164e+40 -1.87186164e+40 -1.87186164e+40\n",
      "  -1.87186164e+40 -1.87186164e+40 -1.87186164e+40 -1.87186164e+40\n",
      "  -1.87186164e+40 -1.87186164e+40 -1.87186164e+40 -1.87186164e+40\n",
      "  -1.87186164e+40 -1.87186164e+40 -1.87186164e+40 -1.87186164e+40\n",
      "  -1.87186164e+40 -1.87186164e+40 -1.87186164e+40 -1.87186164e+40\n",
      "  -1.87186164e+40 -1.87186164e+40 -1.87186164e+40 -1.87186164e+40\n",
      "  -1.87186164e+40 -1.87186164e+40 -1.87186164e+40 -1.87186164e+40\n",
      "  -1.87186164e+40 -1.87186164e+40 -1.87186164e+40 -1.87186164e+40\n",
      "  -1.87186164e+40 -1.87186164e+40 -1.87186164e+40 -1.87186164e+40\n",
      "  -1.87186164e+40 -1.87186164e+40 -1.87186164e+40 -1.87186164e+40\n",
      "  -1.87186164e+40 -1.87186164e+40 -1.87186164e+40 -1.87186164e+40\n",
      "  -1.87186164e+40 -1.87186164e+40 -1.87186164e+40 -1.87186164e+40\n",
      "  -1.87186164e+40 -1.87186164e+40 -1.87186164e+40 -1.87186164e+40\n",
      "  -1.87186164e+40 -1.87186164e+40 -1.87186164e+40 -1.87186164e+40\n",
      "  -1.87186164e+40 -1.87186164e+40 -1.87186164e+40 -1.87186164e+40\n",
      "  -1.87186164e+40 -1.87186164e+40 -1.87186164e+40 -1.87186164e+40\n",
      "  -1.87186164e+40 -1.87186164e+40 -1.87186164e+40 -1.87186164e+40\n",
      "  -1.87186164e+40 -1.87186164e+40 -1.87186164e+40 -1.87186164e+40\n",
      "  -1.87186164e+40 -1.87186164e+40 -1.87186164e+40 -1.87186164e+40\n",
      "  -1.87186164e+40 -1.87186164e+40 -1.87186164e+40 -1.87186164e+40\n",
      "  -1.87186164e+40 -1.87186164e+40 -1.87186164e+40 -1.87186164e+40\n",
      "  -1.87186164e+40 -1.87186164e+40 -1.87186164e+40 -1.87186164e+40\n",
      "  -1.87186164e+40 -1.87186164e+40 -1.87186164e+40 -1.87186164e+40\n",
      "  -1.87186164e+40 -1.87186164e+40 -1.87186164e+40 -1.87186164e+40\n",
      "  -1.87186164e+40 -1.87186164e+40 -1.87186164e+40 -1.87186164e+40\n",
      "  -1.87186164e+40 -1.87186164e+40 -1.87186164e+40 -1.87186164e+40\n",
      "  -1.87186164e+40 -1.87186164e+40 -1.87186164e+40 -1.87186164e+40\n",
      "  -1.87186164e+40 -1.87186164e+40 -1.87186164e+40 -1.87186164e+40\n",
      "  -1.87186164e+40 -1.87186164e+40 -1.87186164e+40 -1.87186164e+40\n",
      "  -1.87186164e+40 -1.87186164e+40 -1.87186164e+40 -1.87186164e+40\n",
      "  -1.87186164e+40 -1.87186164e+40 -1.87186164e+40 -1.87186164e+40\n",
      "  -1.87186164e+40 -1.87186164e+40 -1.87186164e+40 -1.87186164e+40\n",
      "  -1.87186164e+40 -1.87186164e+40 -1.87186164e+40 -1.87186164e+40\n",
      "  -1.87186164e+40 -1.87186164e+40 -1.87186164e+40 -1.87186164e+40\n",
      "  -1.87186164e+40 -1.87186164e+40 -1.87186164e+40 -1.87186164e+40\n",
      "  -1.87186164e+40 -1.87186164e+40 -1.87186164e+40 -1.87186164e+40\n",
      "  -1.87186164e+40 -1.87186164e+40 -1.87186164e+40 -1.87186164e+40\n",
      "  -1.87186164e+40 -1.87186164e+40 -1.87186164e+40 -1.87186164e+40\n",
      "  -1.87186164e+40 -1.87186164e+40 -1.87186164e+40 -1.87186164e+40\n",
      "  -1.87186164e+40 -1.87186164e+40 -1.87186164e+40 -1.87186164e+40\n",
      "  -1.87186164e+40 -1.87186164e+40 -1.87186164e+40 -1.87186164e+40\n",
      "  -1.87186164e+40 -1.87186164e+40 -1.87186164e+40 -1.87186164e+40\n",
      "  -1.87186164e+40 -1.87186164e+40 -1.87186164e+40 -1.87186164e+40\n",
      "  -1.87186164e+40 -1.87186164e+40 -1.87186164e+40 -1.87186164e+40\n",
      "  -1.87186164e+40 -1.87186164e+40 -1.87186164e+40 -1.87186164e+40\n",
      "  -1.87186164e+40 -1.87186164e+40 -1.87186164e+40 -1.87186164e+40\n",
      "  -1.87186164e+40 -1.87186164e+40 -1.87186164e+40 -1.87186164e+40\n",
      "  -1.87186164e+40 -1.87186164e+40 -1.87186164e+40 -1.87186164e+40\n",
      "  -1.87186164e+40 -1.87186164e+40 -1.87186164e+40 -1.87186164e+40\n",
      "  -1.87186164e+40 -1.87186164e+40 -1.87186164e+40 -1.87186164e+40\n",
      "  -1.87186164e+40 -1.87186164e+40 -1.87186164e+40 -1.87186164e+40\n",
      "  -1.87186164e+40 -1.87186164e+40 -1.87186164e+40 -1.87186164e+40\n",
      "  -1.87186164e+40 -1.87186164e+40 -1.87186164e+40 -1.87186164e+40\n",
      "  -1.87186164e+40 -1.87186164e+40 -1.87186164e+40 -1.87186164e+40\n",
      "  -1.87186164e+40 -1.87186164e+40 -1.87186164e+40 -1.87186164e+40\n",
      "  -1.87186164e+40 -1.87186164e+40 -1.87186164e+40 -1.87186164e+40\n",
      "  -1.87186164e+40 -1.87186164e+40 -1.87186164e+40 -1.87186164e+40\n",
      "  -1.87186164e+40 -1.87186164e+40 -1.87186164e+40 -1.87186164e+40\n",
      "  -1.87186164e+40 -1.87186164e+40 -1.87186164e+40 -1.87186164e+40\n",
      "  -1.87186164e+40 -1.87186164e+40 -1.87186164e+40 -1.87186164e+40\n",
      "  -1.87186164e+40 -1.87186164e+40 -1.87186164e+40 -1.87186164e+40\n",
      "  -1.87186164e+40 -1.87186164e+40 -1.87186164e+40 -1.87186164e+40\n",
      "  -1.87186164e+40 -1.87186164e+40 -1.87186164e+40 -1.87186164e+40\n",
      "  -1.87186164e+40 -1.87186164e+40 -1.87186164e+40 -1.87186164e+40\n",
      "  -1.87186164e+40 -1.87186164e+40 -1.87186164e+40 -1.87186164e+40\n",
      "  -1.87186164e+40 -1.87186164e+40 -1.87186164e+40 -1.87186164e+40\n",
      "  -1.87186164e+40 -1.87186164e+40 -1.87186164e+40 -1.87186164e+40\n",
      "  -1.87186164e+40]]\n"
     ]
    }
   ],
   "source": [
    "print(\"Coeficients: \",  rl.w)"
   ]
  },
  {
   "cell_type": "code",
   "execution_count": 12,
   "metadata": {},
   "outputs": [
    {
     "data": {
      "image/png": "[encoded data removed]",
      "text/plain": [
       "<Figure size 640x480 with 1 Axes>"
      ]
     },
     "metadata": {},
     "output_type": "display_data"
    }
   ],
   "source": [
    "#y_pred = rl.predict(X_val)\n",
    "rl.plot_cost(costs)"
   ]
  },
  {
   "cell_type": "code",
   "execution_count": null,
   "metadata": {},
   "outputs": [],
   "source": []
  }
 ],
 "metadata": {
  "kernelspec": {
   "display_name": "blog",
   "language": "python",
   "name": "python3"
  },
  "language_info": {
   "codemirror_mode": {
    "name": "ipython",
    "version": 3
   },
   "file_extension": ".py",
   "mimetype": "text/x-python",
   "name": "python",
   "nbconvert_exporter": "python",
   "pygments_lexer": "ipython3",
   "version": "3.10.13"
  }
 },
 "nbformat": 4,
 "nbformat_minor": 2
}
